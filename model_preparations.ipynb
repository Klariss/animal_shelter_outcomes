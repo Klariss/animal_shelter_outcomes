{
 "cells": [
  {
   "cell_type": "markdown",
   "metadata": {},
   "source": [
    "#  Model preparation "
   ]
  },
  {
   "cell_type": "markdown",
   "metadata": {},
   "source": [
    "Before the model building I had to deal with dates, class imbalance, dummyfication, standardization, and PCA."
   ]
  },
  {
   "cell_type": "markdown",
   "metadata": {},
   "source": [
    "__Dealing with dates__"
   ]
  },
  {
   "cell_type": "code",
   "execution_count": 71,
   "metadata": {},
   "outputs": [
    {
     "name": "stdout",
     "output_type": "stream",
     "text": [
      "(9965, 23)\n"
     ]
    }
   ],
   "source": [
    "# days as a feature\n",
    "outcome_date = df['Outcome Date']\n",
    "df['Outcome day'] = outcome_date.dt.dayofweek\n",
    "\n",
    "outcome_date = df['Intake Date']\n",
    "df['Intake day'] = outcome_date.dt.dayofweek\n",
    "\n",
    "print(df.shape)"
   ]
  },
  {
   "cell_type": "code",
   "execution_count": 72,
   "metadata": {},
   "outputs": [],
   "source": [
    "#seasons as a feature\n",
    "df['Outcome month'] = outcome_date.dt.month\n",
    "df['Intake month'] = outcome_date.dt.month\n",
    "\n",
    "def outcome_to_season(row):\n",
    "    if row['Outcome month'] in [1,2,12]:\n",
    "        return 'winter'\n",
    "    if row['Outcome month'] in [3,4,5]:\n",
    "        return 'spring'\n",
    "    if row['Outcome month'] in [6,7,8]:\n",
    "        return 'summer'\n",
    "    if row['Outcome month'] in [9,10,11]:\n",
    "        return 'autumn'\n",
    "\n",
    "def intake_to_season(row):\n",
    "    if row['Intake month'] in [1,2,12]:\n",
    "        return 'winter'\n",
    "    if row['Intake month'] in [3,4,5]:\n",
    "        return 'spring'\n",
    "    if row['Intake month'] in [6,7,8]:\n",
    "        return 'summer'\n",
    "    if row['Intake month'] in [9,10,11]:\n",
    "        return 'autumn'\n",
    "\n",
    "df['Outcome season'] = df.apply(outcome_to_season, axis=1)\n",
    "df['Intake season'] = df.apply(intake_to_season, axis=1)"
   ]
  },
  {
   "cell_type": "code",
   "execution_count": 73,
   "metadata": {},
   "outputs": [
    {
     "name": "stdout",
     "output_type": "stream",
     "text": [
      "(9965, 22)\n"
     ]
    }
   ],
   "source": [
    "dataset = df.drop(axis=0, columns=['Breed', 'Date Of Birth', 'Days in Shelter', 'Outcome Condition', 'Periods in shelter'])\n",
    "\n",
    "dataset['Outcome Type'].value_counts()\n",
    "\n",
    "print(dataset.shape)"
   ]
  },
  {
   "cell_type": "code",
   "execution_count": 74,
   "metadata": {},
   "outputs": [
    {
     "name": "stdout",
     "output_type": "stream",
     "text": [
      "Index(['Type', 'Sex', 'Size', 'Intake Type', 'Intake Subtype',\n",
      "       'Intake Condition', 'Name_given', 'Breed type', 'Simple color', 'Age',\n",
      "       'Outcome day', 'Intake day', 'Outcome season', 'Intake season'],\n",
      "      dtype='object')\n"
     ]
    },
    {
     "data": {
      "text/html": [
       "<div>\n",
       "<style scoped>\n",
       "    .dataframe tbody tr th:only-of-type {\n",
       "        vertical-align: middle;\n",
       "    }\n",
       "\n",
       "    .dataframe tbody tr th {\n",
       "        vertical-align: top;\n",
       "    }\n",
       "\n",
       "    .dataframe thead th {\n",
       "        text-align: right;\n",
       "    }\n",
       "</style>\n",
       "<table border=\"1\" class=\"dataframe\">\n",
       "  <thead>\n",
       "    <tr style=\"text-align: right;\">\n",
       "      <th></th>\n",
       "      <th>Age</th>\n",
       "      <th>Outcome day</th>\n",
       "      <th>Intake day</th>\n",
       "      <th>Type_DOG</th>\n",
       "      <th>Type_OTHER</th>\n",
       "      <th>Sex_Male</th>\n",
       "      <th>Sex_Neutered</th>\n",
       "      <th>Sex_Spayed</th>\n",
       "      <th>Size_LARGE</th>\n",
       "      <th>Size_MED</th>\n",
       "      <th>...</th>\n",
       "      <th>Simple color_Y BRINDLE</th>\n",
       "      <th>Simple color_Y BRINDLE mixed color</th>\n",
       "      <th>Simple color_YELLOW</th>\n",
       "      <th>Simple color_YELLOW mixed color</th>\n",
       "      <th>Outcome season_spring</th>\n",
       "      <th>Outcome season_summer</th>\n",
       "      <th>Outcome season_winter</th>\n",
       "      <th>Intake season_spring</th>\n",
       "      <th>Intake season_summer</th>\n",
       "      <th>Intake season_winter</th>\n",
       "    </tr>\n",
       "  </thead>\n",
       "  <tbody>\n",
       "    <tr>\n",
       "      <th>1</th>\n",
       "      <td>3054</td>\n",
       "      <td>5</td>\n",
       "      <td>4</td>\n",
       "      <td>1</td>\n",
       "      <td>0</td>\n",
       "      <td>0</td>\n",
       "      <td>1</td>\n",
       "      <td>0</td>\n",
       "      <td>1</td>\n",
       "      <td>0</td>\n",
       "      <td>...</td>\n",
       "      <td>0</td>\n",
       "      <td>0</td>\n",
       "      <td>1</td>\n",
       "      <td>0</td>\n",
       "      <td>0</td>\n",
       "      <td>0</td>\n",
       "      <td>1</td>\n",
       "      <td>0</td>\n",
       "      <td>0</td>\n",
       "      <td>1</td>\n",
       "    </tr>\n",
       "    <tr>\n",
       "      <th>2</th>\n",
       "      <td>70</td>\n",
       "      <td>2</td>\n",
       "      <td>4</td>\n",
       "      <td>0</td>\n",
       "      <td>0</td>\n",
       "      <td>0</td>\n",
       "      <td>0</td>\n",
       "      <td>1</td>\n",
       "      <td>0</td>\n",
       "      <td>0</td>\n",
       "      <td>...</td>\n",
       "      <td>0</td>\n",
       "      <td>0</td>\n",
       "      <td>0</td>\n",
       "      <td>0</td>\n",
       "      <td>0</td>\n",
       "      <td>0</td>\n",
       "      <td>1</td>\n",
       "      <td>0</td>\n",
       "      <td>0</td>\n",
       "      <td>1</td>\n",
       "    </tr>\n",
       "  </tbody>\n",
       "</table>\n",
       "<p>2 rows × 264 columns</p>\n",
       "</div>"
      ],
      "text/plain": [
       "    Age  Outcome day  Intake day  Type_DOG  Type_OTHER  Sex_Male  \\\n",
       "1  3054            5           4         1           0         0   \n",
       "2    70            2           4         0           0         0   \n",
       "\n",
       "   Sex_Neutered  Sex_Spayed  Size_LARGE  Size_MED          ...           \\\n",
       "1             1           0           1         0          ...            \n",
       "2             0           1           0         0          ...            \n",
       "\n",
       "   Simple color_Y BRINDLE  Simple color_Y BRINDLE mixed color  \\\n",
       "1                       0                                   0   \n",
       "2                       0                                   0   \n",
       "\n",
       "   Simple color_YELLOW  Simple color_YELLOW mixed color  \\\n",
       "1                    1                                0   \n",
       "2                    0                                0   \n",
       "\n",
       "   Outcome season_spring  Outcome season_summer  Outcome season_winter  \\\n",
       "1                      0                      0                      1   \n",
       "2                      0                      0                      1   \n",
       "\n",
       "   Intake season_spring  Intake season_summer  Intake season_winter  \n",
       "1                     0                     0                     1  \n",
       "2                     0                     0                     1  \n",
       "\n",
       "[2 rows x 264 columns]"
      ]
     },
     "execution_count": 74,
     "metadata": {},
     "output_type": "execute_result"
    }
   ],
   "source": [
    "features = dataset.drop(['Color','Breeds','Outcome Type','Outcome month', 'Intake month', 'Outcome Date', 'Intake Date', 'Outcome Subtype'], axis=1)\n",
    "print(features.columns)\n",
    "df_dum = pd.get_dummies(features, drop_first=True)\n",
    "df_dum.head(2)"
   ]
  },
  {
   "cell_type": "markdown",
   "metadata": {},
   "source": [
    "### Modeling"
   ]
  },
  {
   "cell_type": "markdown",
   "metadata": {},
   "source": [
    "- Importing the necessary packages"
   ]
  },
  {
   "cell_type": "code",
   "execution_count": 75,
   "metadata": {},
   "outputs": [],
   "source": [
    "from sklearn.tree import DecisionTreeClassifier, DecisionTreeRegressor\n",
    "from sklearn.linear_model import LinearRegression, LogisticRegression, LogisticRegressionCV\n",
    "from sklearn.metrics import classification_report, confusion_matrix, accuracy_score\n",
    "from sklearn.model_selection import cross_val_score, train_test_split, cross_val_predict\n",
    "from sklearn.model_selection import GridSearchCV\n",
    "from sklearn.metrics import r2_score, mean_squared_error\n",
    "from sklearn import metrics\n",
    "from sklearn.metrics import roc_curve, auc\n",
    "from sklearn.externals.six import StringIO  \n",
    "from IPython.display import Image  \n",
    "from sklearn.tree import export_graphviz\n",
    "import pydotplus\n",
    "import scikitplot as skplt\n",
    "from matplotlib.colors import ListedColormap\n",
    "from sklearn.model_selection import train_test_split\n",
    "from sklearn.preprocessing import StandardScaler\n",
    "import pandas as pd"
   ]
  },
  {
   "cell_type": "markdown",
   "metadata": {},
   "source": [
    "__Predictor and predicted variables__"
   ]
  },
  {
   "cell_type": "code",
   "execution_count": 76,
   "metadata": {},
   "outputs": [
    {
     "name": "stdout",
     "output_type": "stream",
     "text": [
      "1    0\n",
      "2    1\n",
      "3    1\n",
      "4    0\n",
      "5    1\n",
      "Name: Outcome Type, dtype: int64\n",
      "Index(['RETURN TO OWNER', 'ADOPTION', 'TRANSFER', 'EUTHANIZE', 'DIED'], dtype='object')\n"
     ]
    }
   ],
   "source": [
    "#Creating the dependent variable class\n",
    "factor = pd.factorize(dataset['Outcome Type'])\n",
    "dataset['Outcome Type'] = factor[0]\n",
    "definitions = factor[1]\n",
    "print(dataset['Outcome Type'].head())\n",
    "print(definitions)"
   ]
  },
  {
   "cell_type": "code",
   "execution_count": 77,
   "metadata": {},
   "outputs": [],
   "source": [
    "y = dataset['Outcome Type']"
   ]
  },
  {
   "cell_type": "code",
   "execution_count": 78,
   "metadata": {},
   "outputs": [
    {
     "data": {
      "text/plain": [
       "0.5029603612644254"
      ]
     },
     "execution_count": 78,
     "metadata": {},
     "output_type": "execute_result"
    }
   ],
   "source": [
    "#the baseline accuracy:\n",
    "dataset['Outcome Type'].value_counts().max()/len(dataset)"
   ]
  },
  {
   "cell_type": "code",
   "execution_count": 79,
   "metadata": {},
   "outputs": [
    {
     "name": "stdout",
     "output_type": "stream",
     "text": [
      "(9965, 264)\n"
     ]
    }
   ],
   "source": [
    "X = df_dum\n",
    "print(X.shape)"
   ]
  },
  {
   "cell_type": "markdown",
   "metadata": {},
   "source": [
    "__Splitting dataset to train and test__"
   ]
  },
  {
   "cell_type": "code",
   "execution_count": 80,
   "metadata": {},
   "outputs": [],
   "source": [
    "X_train, X_test, y_train, y_test = train_test_split(X,y,test_size=0.3,random_state=1)"
   ]
  },
  {
   "cell_type": "markdown",
   "metadata": {},
   "source": [
    "__Standardizing predictor matrices__"
   ]
  },
  {
   "cell_type": "code",
   "execution_count": 81,
   "metadata": {},
   "outputs": [
    {
     "name": "stderr",
     "output_type": "stream",
     "text": [
      "/Users/klara/anaconda3/lib/python3.6/site-packages/sklearn/preprocessing/data.py:625: DataConversionWarning: Data with input dtype uint8, int64 were all converted to float64 by StandardScaler.\n",
      "  return self.partial_fit(X, y)\n",
      "/Users/klara/anaconda3/lib/python3.6/site-packages/ipykernel_launcher.py:3: DataConversionWarning: Data with input dtype uint8, int64 were all converted to float64 by StandardScaler.\n",
      "  This is separate from the ipykernel package so we can avoid doing imports until\n",
      "/Users/klara/anaconda3/lib/python3.6/site-packages/ipykernel_launcher.py:4: DataConversionWarning: Data with input dtype uint8, int64 were all converted to float64 by StandardScaler.\n",
      "  after removing the cwd from sys.path.\n"
     ]
    }
   ],
   "source": [
    "ss = StandardScaler()\n",
    "ss.fit(X_train)\n",
    "X_train = ss.transform(X_train)\n",
    "X_test = ss.transform(X_test)"
   ]
  },
  {
   "cell_type": "markdown",
   "metadata": {},
   "source": [
    "__PCA__"
   ]
  },
  {
   "cell_type": "code",
   "execution_count": 82,
   "metadata": {},
   "outputs": [],
   "source": [
    "#PCA\n",
    "from sklearn.decomposition import PCA"
   ]
  },
  {
   "cell_type": "code",
   "execution_count": 83,
   "metadata": {},
   "outputs": [],
   "source": [
    "# pca = PCA(n_components=100)  \n",
    "# X_train = pca.fit_transform(X_train_ss)  \n",
    "# X_test = pca.transform(X_test_ss)  "
   ]
  },
  {
   "cell_type": "code",
   "execution_count": 84,
   "metadata": {},
   "outputs": [],
   "source": [
    "# explained_variance = pca.explained_variance_ratio_\n",
    "# explained_variance"
   ]
  },
  {
   "cell_type": "markdown",
   "metadata": {},
   "source": [
    "The explained variance of principal components quite low, so there is no use of PCA in this project."
   ]
  },
  {
   "cell_type": "markdown",
   "metadata": {},
   "source": [
    "#### Methods for solving imbalanced classes"
   ]
  },
  {
   "cell_type": "code",
   "execution_count": 85,
   "metadata": {},
   "outputs": [],
   "source": [
    "from imblearn.over_sampling import RandomOverSampler"
   ]
  },
  {
   "cell_type": "code",
   "execution_count": 86,
   "metadata": {},
   "outputs": [
    {
     "name": "stdout",
     "output_type": "stream",
     "text": [
      "4    3505\n",
      "3    3505\n",
      "2    3505\n",
      "1    3505\n",
      "0    3505\n",
      "dtype: int64\n"
     ]
    }
   ],
   "source": [
    "sampler = RandomOverSampler(random_state=1)\n",
    "X_resampled, y_resampled = sampler.fit_sample(X_train, y_train)\n",
    "\n",
    "print(pd.Series(y_resampled).value_counts())"
   ]
  }
 ],
 "metadata": {
  "kernelspec": {
   "display_name": "Python 3",
   "language": "python",
   "name": "python3"
  },
  "language_info": {
   "codemirror_mode": {
    "name": "ipython",
    "version": 3
   },
   "file_extension": ".py",
   "mimetype": "text/x-python",
   "name": "python",
   "nbconvert_exporter": "python",
   "pygments_lexer": "ipython3",
   "version": "3.6.6"
  }
 },
 "nbformat": 4,
 "nbformat_minor": 2
}
